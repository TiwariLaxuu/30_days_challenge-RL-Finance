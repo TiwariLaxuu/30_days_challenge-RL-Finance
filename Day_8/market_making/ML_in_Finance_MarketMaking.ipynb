{
 "cells": [
  {
   "cell_type": "markdown",
   "metadata": {},
   "source": [
    "# The Market Making Problem"
   ]
  },
  {
   "cell_type": "markdown",
   "metadata": {},
   "source": [
    "### Import the necessary libraries"
   ]
  },
  {
   "cell_type": "code",
   "execution_count": 2,
   "metadata": {},
   "outputs": [],
   "source": [
    "import time\n",
    "import copy\n",
    "import random\n",
    "import sys\n",
    "\n",
    "import numpy as np\n",
    "\n",
    "import matplotlib.pyplot as plt\n",
    "from matplotlib.gridspec import GridSpec\n",
    "\n",
    "from tqdm.notebook import tqdm "
   ]
  },
  {
   "cell_type": "code",
   "execution_count": 3,
   "metadata": {},
   "outputs": [],
   "source": [
    "%matplotlib inline"
   ]
  },
  {
   "cell_type": "markdown",
   "metadata": {},
   "source": [
    "### Setting up  \n",
    "#### Setting some global parameters  "
   ]
  },
  {
   "cell_type": "markdown",
   "metadata": {},
   "source": [
    "Parameters of the reinforcement learning algorithms"
   ]
  },
  {
   "cell_type": "code",
   "execution_count": 4,
   "metadata": {},
   "outputs": [],
   "source": [
    "EPSILON = 0.5 # Probability for exploration\n",
    "\n",
    "ALPHA = 0.05 # Step size\n",
    "\n",
    "GAMMA = 1 # Discount factor for Q-Learning and Sarsa"
   ]
  },
  {
   "cell_type": "markdown",
   "metadata": {},
   "source": [
    "Some parameters describing the problem and our implementation of it"
   ]
  },
  {
   "cell_type": "code",
   "execution_count": 5,
   "metadata": {},
   "outputs": [],
   "source": [
    "ACTIONS = [0, 1, 2] # Possible actions\n",
    "\n",
    "NUM_INV_STEPS = 3 # Number of inventory states: long, short, flat\n",
    "\n",
    "NUM_PROB_STEPS = 10 # Number of discrete probabilities\n",
    "\n",
    "# Dimensions of the action-state value array:\n",
    "Q_DIMS = (NUM_INV_STEPS, NUM_PROB_STEPS, len(ACTIONS))\n",
    "\n",
    "FILL_PROBS = np.linspace(0, 1, 10) # Possible probability values\n",
    "\n",
    "c = 0 # Transaction cost\n",
    "\n",
    "MAX_ITER = np.float('inf') # Maximum number of iterations in one episode\n",
    "# (with `MAX_ITER = np.float('inf')`, the entire dataset will be used)"
   ]
  },
  {
   "cell_type": "markdown",
   "metadata": {},
   "source": [
    "Note the discrete probability values in `FILL_PROBS`. These represent the probability of a bid being fulfilled, and the complement of the probability of an ask being fulfilled."
   ]
  },
  {
   "cell_type": "code",
   "execution_count": 6,
   "metadata": {},
   "outputs": [
    {
     "data": {
      "text/plain": [
       "array([0.        , 0.11111111, 0.22222222, 0.33333333, 0.44444444,\n",
       "       0.55555556, 0.66666667, 0.77777778, 0.88888889, 1.        ])"
      ]
     },
     "execution_count": 6,
     "metadata": {},
     "output_type": "execute_result"
    }
   ],
   "source": [
    "FILL_PROBS"
   ]
  },
  {
   "cell_type": "markdown",
   "metadata": {},
   "source": [
    "These dictionaries map the names of the actions and positions to their index along the corresponding axis of the state-action value array `q_value` in the learning algorithms"
   ]
  },
  {
   "cell_type": "code",
   "execution_count": 7,
   "metadata": {},
   "outputs": [],
   "source": [
    "actions = {'buy': 2, 'sell': 0, 'hold': 1} \n",
    "positions = {'flat': 0, 'long': 2, 'short': 1}"
   ]
  },
  {
   "cell_type": "markdown",
   "metadata": {},
   "source": [
    "#### The data generator\n",
    "\n",
    "The training data are in a .csv file. The data generator object yields the next Limit Order Book update from the file. When it reaches the end of the file, it raises `StopIteration`, and its `rewind()` method must be called to reset it."
   ]
  },
  {
   "cell_type": "code",
   "execution_count": 8,
   "metadata": {
    "scrolled": true
   },
   "outputs": [],
   "source": [
    "class DataFeed(object):\n",
    "    def __init__(self, data_RA):\n",
    "        self.data_RA = data_RA\n",
    "        self.rewind()\n",
    "    def next(self):\n",
    "        try:\n",
    "            return self.__gen.__next__()\n",
    "        except StopIteration as e:\n",
    "            raise e\n",
    "    def rewind(self):\n",
    "        self.__gen = (row for row in self.data_RA)"
   ]
  },
  {
   "cell_type": "code",
   "execution_count": 9,
   "metadata": {},
   "outputs": [],
   "source": [
    "csv_path = '../data/AMZN-L1.csv'\n",
    "\n",
    "data_RA = np.genfromtxt(csv_path, delimiter=',', dtype=float)\n",
    "data_generator = DataFeed(data_RA)"
   ]
  },
  {
   "cell_type": "markdown",
   "metadata": {},
   "source": [
    "#### State\n",
    "The state has four elements: \n",
    "- position (flat, long, short); \n",
    "- probability of ask fill (index in the array of probabilities)\n",
    "- prices (a dictionary of bid and ask)\n",
    "- entry price\n",
    "\n",
    "We note, however, that the q-value is only a function of the position and probability, and the action taken."
   ]
  },
  {
   "cell_type": "markdown",
   "metadata": {},
   "source": [
    "Here, we define a function to \"rewind\" the data generator to the beginning of the dataset and initialise the state vector"
   ]
  },
  {
   "cell_type": "code",
   "execution_count": 10,
   "metadata": {},
   "outputs": [],
   "source": [
    "def get_initial_state(data_generator):\n",
    "    data_generator.rewind()\n",
    "    \n",
    "    # By convention we start with a flat position\n",
    "    # and, therefore, no entry price\n",
    "    position = positions['flat']\n",
    "    entry_price = None\n",
    "    \n",
    "    ask, ask_depth, bid, bid_depth = data_generator.next()\n",
    "    \n",
    "    price = {'bid': bid/1000.0, 'ask': ask/1000.0}    \n",
    "    \n",
    "    # Estimate the fill probability\n",
    "    q = bid_depth / (bid_depth + ask_depth)\n",
    "    # Quantise q and scale it to the integer index \n",
    "    # q_ind is an index of the vector `FILL_PROBS`\n",
    "    q_ind = np.int(q * NUM_PROB_STEPS) \n",
    "    \n",
    "    initial_state = position, q_ind, price, entry_price\n",
    "    \n",
    "    return initial_state"
   ]
  },
  {
   "cell_type": "code",
   "execution_count": 11,
   "metadata": {},
   "outputs": [
    {
     "name": "stdout",
     "output_type": "stream",
     "text": [
      "(0, 5, {'bid': 2231.8, 'ask': 2239.5}, None)\n"
     ]
    }
   ],
   "source": [
    "START = get_initial_state(data_generator)\n",
    "print(START)"
   ]
  },
  {
   "cell_type": "markdown",
   "metadata": {},
   "source": [
    "#### Setting up the environment"
   ]
  },
  {
   "cell_type": "code",
   "execution_count": 12,
   "metadata": {},
   "outputs": [],
   "source": [
    "def step(state, action):\n",
    "        position, q, price, entry_price = state\n",
    "        reward = 0 \n",
    "        instant_pnl = 0\n",
    "        done = False\n",
    "        \n",
    "        # The ask/bid fill probabilities always sum to 1, meaning\n",
    "        # that either bid or ask orders can always be executed \n",
    "        if FILL_PROBS[q] < np.random.rand():\n",
    "            fill_bid = True\n",
    "            fill_ask = False\n",
    "        else:\n",
    "            fill_bid = False\n",
    "            fill_ask = True\n",
    "        \n",
    "        # Calculate the result of taking the selected action\n",
    "        if (action == actions['buy']) and (fill_bid):\n",
    "            reward = -c\n",
    "            if (position == positions['flat']):         \n",
    "                position = positions['long']\n",
    "                entry_price = price['bid'] \n",
    "            elif(position == positions['short']): # closing out a short position          \n",
    "                position = positions['flat']\n",
    "                exit_price =  price['bid']\n",
    "                instant_pnl = entry_price - exit_price\n",
    "                entry_price = None\n",
    "            elif position == positions['long']:\n",
    "                raise ValueError(\"can't buy already got\")\n",
    "        \n",
    "        elif (action == actions['sell']) and (fill_ask):\n",
    "            reward = -c\n",
    "            if (position == positions['flat']):\n",
    "                position = positions['short']\n",
    "                entry_price = price['ask']\n",
    "            elif (position == positions['long']): # closing out a long position   \n",
    "                exit_price = price['ask']\n",
    "                position = positions['flat']\n",
    "                instant_pnl = exit_price - entry_price\n",
    "                entry_price = None\n",
    "            elif position == positions['short']:\n",
    "                raise ValueError(\"can't sell already short\")\n",
    "        \n",
    "        reward += instant_pnl\n",
    "        \n",
    "        try:            \n",
    "            # Get the next limit order book update\n",
    "            ask, ask_depth, bid, bid_depth = data_generator.next()\n",
    "            \n",
    "            # Calculate the price and bid/ask fill probabilities for the next state\n",
    "            price = {'bid': bid/1000.0, 'ask': ask/1000.0}    \n",
    "\n",
    "            # Estimate the fill probability\n",
    "            q = bid_depth / (bid_depth + ask_depth)\n",
    "            \n",
    "            # Quantise q and scale it to the integer index \n",
    "            # q_ind is an index of the vector `FILL_PROBS`\n",
    "            q_ind = np.int(q * NUM_PROB_STEPS) \n",
    "            \n",
    "        except StopIteration as e:\n",
    "            # This happens when the data generator reaches the end of the dataset\n",
    "            raise e\n",
    "        \n",
    "        next_state = position, q_ind, price, entry_price\n",
    "        return next_state, reward"
   ]
  },
  {
   "cell_type": "code",
   "execution_count": 13,
   "metadata": {},
   "outputs": [
    {
     "name": "stdout",
     "output_type": "stream",
     "text": [
      "{'buy': 2, 'sell': 0, 'hold': 1}\n",
      "((1, 1, {'bid': 2238.1, 'ask': 2239.5}, 2239.5), 0)\n",
      "((0, 5, {'bid': 2237.5, 'ask': 2239.5}, None), 0)\n"
     ]
    }
   ],
   "source": [
    "# Check START state, action pairs and the associated reward\n",
    "print(actions)\n",
    "state = get_initial_state\n",
    "print(step(START, 0))\n",
    "print(step(START, 1))"
   ]
  },
  {
   "cell_type": "markdown",
   "metadata": {},
   "source": [
    "### Set up the agent's action policy\n",
    "Given $S_t$ and $Q_t\\left( s_t, a_t\\right)$, this function chooses an action based on the epsilon-greedy algorithm"
   ]
  },
  {
   "cell_type": "code",
   "execution_count": 14,
   "metadata": {},
   "outputs": [],
   "source": [
    "def choose_action(state, q_value, eps=EPSILON):\n",
    "    position, q, price, entry_price = state\n",
    "    \n",
    "    # With probability eps we choose randomly among allowed actions\n",
    "    if np.random.binomial(1, eps) == 1: \n",
    "        if position == positions['long']:\n",
    "            action = np.random.choice([actions['hold'], actions['sell']])\n",
    "        elif position == positions['short']:\n",
    "            action = np.random.choice([actions['hold'], actions['buy']])\n",
    "        else:\n",
    "            action = np.random.choice([actions['hold'], actions['buy'], actions['sell']])  \n",
    "        \n",
    "    # Otherwise the best available action is selected\n",
    "    else:\n",
    "        # Make a list of the actions available from the current state\n",
    "        if position == positions['long']:\n",
    "            actions_ = [actions['hold'], actions['sell']]        \n",
    "        elif position == positions['short']:\n",
    "            actions_ = [actions['hold'], actions['buy']]\n",
    "        else:\n",
    "            actions_ = [actions['hold'], actions['buy'], actions['sell']]\n",
    "        # Get the state-action values for the current state\n",
    "        values_ = q_value[state[0], state[1], actions_]\n",
    "        # In case of a tie, choose from those with the highest value\n",
    "        action = np.random.choice([actions_[action_] for action_, value_ in enumerate(values_) \n",
    "                                 if value_ == np.max(values_)])\n",
    "    return action"
   ]
  },
  {
   "cell_type": "markdown",
   "metadata": {},
   "source": [
    "To demonstrate the "
   ]
  },
  {
   "cell_type": "code",
   "execution_count": 15,
   "metadata": {},
   "outputs": [
    {
     "name": "stdout",
     "output_type": "stream",
     "text": [
      "(0, 5, {'bid': 2231.8, 'ask': 2239.5}, None)\n",
      "[0.13177221 0.60988732 0.26877103]\n",
      "1\n"
     ]
    }
   ],
   "source": [
    "# Set a random state-action value function\n",
    "q_value_example = np.random.random(Q_DIMS) \n",
    "\n",
    "# Show the initial state\n",
    "state = get_initial_state(data_generator)\n",
    "print(state)\n",
    "\n",
    "# The action values for the initial state. \n",
    "# state[0] is the position; state[1] is the bid fill probability\n",
    "print(q_value_example[state[0], state[1], :])\n",
    "\n",
    "# With epsilon = 0, the selected action is always that with the highest Q-value\n",
    "print(choose_action(state, q_value_example, eps=0))"
   ]
  },
  {
   "cell_type": "markdown",
   "metadata": {},
   "source": [
    "### Set up the learning algorithms"
   ]
  },
  {
   "cell_type": "markdown",
   "metadata": {},
   "source": [
    "#### Sarsa and Expected Sarsa"
   ]
  },
  {
   "cell_type": "code",
   "execution_count": 16,
   "metadata": {},
   "outputs": [],
   "source": [
    "def sarsa(q_value, expected=False, step_size=ALPHA, eps=EPSILON):\n",
    "    \n",
    "    state = get_initial_state(data_generator)\n",
    "    \n",
    "    action = choose_action(state, q_value, eps)\n",
    "    rewards = 0.0\n",
    "    done = False\n",
    "    iteration = 0\n",
    "    \n",
    "    while (iteration < MAX_ITER) and not done:\n",
    "        # The step function will raise StopIteration when there\n",
    "        # is no more data available to calculate the next state:\n",
    "        try:\n",
    "            next_state, reward = step(state, action)\n",
    "        except StopIteration:\n",
    "            # Skip the rest of the loop and end the episode.\n",
    "            # As there is no new `next_state`, updating\n",
    "            # q_value again doesn't make sense\n",
    "            done = True\n",
    "            continue\n",
    "        next_action = choose_action(next_state, q_value, eps)\n",
    "        \n",
    "        rewards += reward\n",
    "        \n",
    "        if not expected:\n",
    "            target = q_value[next_state[0], next_state[1], next_action]\n",
    "        else:\n",
    "            # Calculate the expected value of new state for expected SARSA\n",
    "            target = 0.0\n",
    "            q_next = q_value[next_state[0], next_state[1], :]\n",
    "            best_actions = np.argwhere(q_next == np.max(q_next))\n",
    "            for action_ in ACTIONS: \n",
    "                if action_ in best_actions:\n",
    "                    target += ((1.0 -  eps) / len(best_actions) \n",
    "                               +  eps / len(ACTIONS)) * q_value[next_state[0], next_state[1], action_]\n",
    "                else:\n",
    "                    target +=  eps / len(ACTIONS) * q_value[next_state[0], next_state[1], action_]\n",
    "        target *= GAMMA\n",
    "        \n",
    "        # SARSA update\n",
    "        q_value[state[0], state[1], action] += step_size * (reward\n",
    "                 + target - q_value[state[0], state[1], action])\n",
    "        \n",
    "        state = next_state\n",
    "        action = next_action\n",
    "        iteration += 1\n",
    "    return rewards"
   ]
  },
  {
   "cell_type": "markdown",
   "metadata": {},
   "source": [
    "#### Q-learning"
   ]
  },
  {
   "cell_type": "markdown",
   "metadata": {},
   "source": [
    "This function simulates an episode with Q-learning. It takes the state-action value array `q_value` as an argument, initialises the state to `START`, defined above, and updates `q_value` according to the Q-learning algorithm, until the $T$ time steps have passed, or the stocks have all been sold. The cumulative reward earned is returned."
   ]
  },
  {
   "cell_type": "code",
   "execution_count": 17,
   "metadata": {},
   "outputs": [],
   "source": [
    "def q_learning(q_value, step_size=ALPHA, eps=EPSILON):\n",
    "    \n",
    "    state = get_initial_state(data_generator)\n",
    "    \n",
    "    rewards = 0.0\n",
    "    done  = False\n",
    "    iteration = 0\n",
    "    \n",
    "    while (iteration < MAX_ITER) and not done:\n",
    "        action = choose_action(state, q_value, eps)\n",
    "        # The step function will raise StopIteration when there\n",
    "        # is no more data available to calculate the next state:\n",
    "        try:\n",
    "            next_state, reward = step(state, action)\n",
    "        except StopIteration:\n",
    "            # Skip the rest of the loop and end the episode.\n",
    "            # As there is no new `next_state`, updating\n",
    "            # q_value again doesn't make sense\n",
    "            done = True\n",
    "            continue\n",
    "        \n",
    "        rewards += reward\n",
    "        \n",
    "        # Q-Learning update\n",
    "        q_value[state[0], state[1], action] += step_size * (\n",
    "                reward + GAMMA * np.max(q_value[next_state[0], next_state[1], :]) -\n",
    "                q_value[state[0], state[1], action])\n",
    "        state = next_state\n",
    "        iteration +=1\n",
    "    return rewards"
   ]
  },
  {
   "cell_type": "markdown",
   "metadata": {},
   "source": [
    "#### Printing the learned policies"
   ]
  },
  {
   "cell_type": "markdown",
   "metadata": {},
   "source": [
    "This function will allow us to inspect the optimal action learned for each of the possible states"
   ]
  },
  {
   "cell_type": "code",
   "execution_count": 18,
   "metadata": {},
   "outputs": [],
   "source": [
    "def print_optimal_policy(q_value):\n",
    "    \n",
    "    optimal_policy = np.argmax(q_value, axis=-1)\n",
    "    print(\"ask fill prob:\", *['%.2f' % q for q in  FILL_PROBS])\n",
    "    \n",
    "    for i in range(0, NUM_INV_STEPS):\n",
    "        \n",
    "        # positions ={'flat': 0, 'long': 2, 'short':1}\n",
    "        str_=\"\"\n",
    "        if (i==0):\n",
    "            str_ += '         flat     '\n",
    "        elif(i==1):\n",
    "            str_ += '        short     '\n",
    "        else:\n",
    "            str_ += '         long     '\n",
    "            \n",
    "        for j in range(0, NUM_PROB_STEPS): \n",
    "            a = np.int(optimal_policy[i,j])\n",
    "            # actions = {'buy':2, 'sell':0, 'hold': 1}\n",
    "            if a == 0:\n",
    "                str_ += 's    '\n",
    "            elif a ==1:\n",
    "                str_ += 'h    ' \n",
    "            else:\n",
    "                str_ += 'b    '  \n",
    "        print(str_)"
   ]
  },
  {
   "cell_type": "markdown",
   "metadata": {},
   "source": [
    "#### Set up the epsilon decay\n",
    "\n",
    "We decrease the value of epsilon with each epoch - epsilon must approach zero as the number of episodes increases in order to ensure that the q-value function converges to the optimum\n",
    "\n",
    "The following figure demonstrates the exponential decay we are going to use."
   ]
  },
  {
   "cell_type": "code",
   "execution_count": 19,
   "metadata": {},
   "outputs": [
    {
     "data": {
      "image/png": "[encoded data removed]",
      "text/plain": [
       "<Figure size 432x288 with 1 Axes>"
      ]
     },
     "metadata": {
      "needs_background": "light"
     },
     "output_type": "display_data"
    }
   ],
   "source": [
    "%matplotlib inline\n",
    "\n",
    "eps = 0.5\n",
    "epis = 150\n",
    "epoch = 15\n",
    "\n",
    "plt.plot([eps*((1-eps)**(i//epoch)) for i in range(epis)])\n",
    "plt.xlabel('Episode')\n",
    "plt.ylabel('Epsilon');"
   ]
  },
  {
   "cell_type": "markdown",
   "metadata": {},
   "source": [
    "### Running Sarsa and Q-learning "
   ]
  },
  {
   "cell_type": "code",
   "execution_count": 20,
   "metadata": {},
   "outputs": [],
   "source": [
    "def train(policy, episodes=150):\n",
    "    if policy == 'sarsa':\n",
    "        learning_alg = sarsa\n",
    "    elif policy == 'q-learning':\n",
    "        learning_alg = q_learning\n",
    "    else:\n",
    "        raise ValueError(\"choose 'sarsa' or 'q-learning'\")\n",
    "    \n",
    "    epoch_length = 15\n",
    "    \n",
    "    # Initialise the rewards vector and state-action values array\n",
    "    rewards = np.zeros(episodes)\n",
    "    q_value = np.zeros(Q_DIMS)\n",
    "    \n",
    "    print('Training {}...'.format(policy))\n",
    "    for i in tqdm(range(0, episodes)):\n",
    "        eps = EPSILON*((1-EPSILON)**(i//epoch_length))\n",
    "        rewards[i] = learning_alg(q_value, eps=eps)\n",
    "    \n",
    "    return q_value, rewards"
   ]
  },
  {
   "cell_type": "code",
   "execution_count": 21,
   "metadata": {
    "scrolled": false
   },
   "outputs": [
    {
     "name": "stdout",
     "output_type": "stream",
     "text": [
      "Training sarsa...\n"
     ]
    },
    {
     "data": {
      "application/vnd.jupyter.widget-view+json": {
       "model_id": "379589ec680b46e5af5c02105f5afcac",
       "version_major": 2,
       "version_minor": 0
      },
      "text/plain": [
       "HBox(children=(FloatProgress(value=0.0, max=150.0), HTML(value='')))"
      ]
     },
     "metadata": {},
     "output_type": "display_data"
    },
    {
     "name": "stdout",
     "output_type": "stream",
     "text": [
      "\n",
      "Training q-learning...\n"
     ]
    },
    {
     "data": {
      "application/vnd.jupyter.widget-view+json": {
       "model_id": "2bfcf6c65e074a36b1d9c06b2e96937e",
       "version_major": 2,
       "version_minor": 0
      },
      "text/plain": [
       "HBox(children=(FloatProgress(value=0.0, max=150.0), HTML(value='')))"
      ]
     },
     "metadata": {},
     "output_type": "display_data"
    },
    {
     "name": "stdout",
     "output_type": "stream",
     "text": [
      "\n"
     ]
    }
   ],
   "source": [
    "q_sarsa, rewards_sarsa = train('sarsa')\n",
    "q_q_learning, rewards_q_learning = train('q-learning')"
   ]
  },
  {
   "cell_type": "code",
   "execution_count": 22,
   "metadata": {},
   "outputs": [
    {
     "name": "stdout",
     "output_type": "stream",
     "text": [
      "SARSA\n",
      "ask fill prob: 0.00 0.11 0.22 0.33 0.44 0.56 0.67 0.78 0.89 1.00\n",
      "         flat     b    b    b    s    s    s    s    s    s    s    \n",
      "        short     b    b    b    b    b    b    b    b    b    h    \n",
      "         long     h    s    s    s    s    s    s    s    s    s    \n",
      "Q-learning\n",
      "ask fill prob: 0.00 0.11 0.22 0.33 0.44 0.56 0.67 0.78 0.89 1.00\n",
      "         flat     b    b    b    b    b    s    s    s    s    s    \n",
      "        short     b    b    b    b    b    b    b    b    b    b    \n",
      "         long     h    s    s    s    s    s    s    s    s    s    \n"
     ]
    }
   ],
   "source": [
    "print('SARSA')\n",
    "print_optimal_policy(q_sarsa)\n",
    "print('Q-learning')\n",
    "print_optimal_policy(q_q_learning)"
   ]
  },
  {
   "cell_type": "code",
   "execution_count": 23,
   "metadata": {},
   "outputs": [
    {
     "data": {
      "image/png": "[encoded data removed]",
      "text/plain": [
       "<Figure size 936x576 with 1 Axes>"
      ]
     },
     "metadata": {
      "needs_background": "light"
     },
     "output_type": "display_data"
    }
   ],
   "source": [
    "%matplotlib inline\n",
    "plt.figure(figsize=(13,8))\n",
    "plt.plot(rewards_q_learning, label='Q-Learning')\n",
    "plt.plot(rewards_sarsa, label='SARSA')\n",
    "plt.xlabel('Episodes')\n",
    "plt.ylabel('Sum of rewards during episode')\n",
    "plt.legend();"
   ]
  }
 ],
 "metadata": {
  "kernelspec": {
   "display_name": "Python 3",
   "language": "python",
   "name": "python3"
  },
  "language_info": {
   "codemirror_mode": {
    "name": "ipython",
    "version": 3
   },
   "file_extension": ".py",
   "mimetype": "text/x-python",
   "name": "python",
   "nbconvert_exporter": "python",
   "pygments_lexer": "ipython3",
   "version": "3.6.10"
  }
 },
 "nbformat": 4,
 "nbformat_minor": 2
}
